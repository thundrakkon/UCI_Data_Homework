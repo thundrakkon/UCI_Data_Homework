{
 "cells": [
  {
   "cell_type": "markdown",
   "metadata": {},
   "source": [
    "## Observations and Insights "
   ]
  },
  {
   "cell_type": "markdown",
   "metadata": {},
   "source": [
    "3 Observations and/or inferences:\n",
    "\n",
    "1) Over all other drug regimen tested in the project, Capomulin and Ramicane performed far superior to any of the other treatments, with the lowest average tumor volume by the end of the 45 days.  However, the data would be better served for a more accurate result if the data used was the percentage change in tumor volume from the beginning to the last day of the project.\n",
    "\n",
    "2) The experiments were fairly equal when it comes to the sexes, with almost equal numbers of males and females in the tests.  However, a better check would be to determine how effective each drug regimen affected each sex.  The results will then show if any particular drug is more effective for a particular sex over another, or if the drugs are equally effective for both sexes.\n",
    "\n",
    "3) For the drug Capomulin, as expected, there is a very positive correlation between the weight and the average volume of the tumors, with a correlation coefficient of 0.8419.  However, due to the fact that there is such a positive correlation between tumor size and mice weight, if the drug regimen being tested had smaller mice overall, then their results will have a lower average tumor volume overall.  This further emphasizes that using average tumor size alone is not a good indicator for how effective the drugs are, and that taking the percentage change in tumor volume will yield more accurate results."
   ]
  },
  {
   "cell_type": "markdown",
   "metadata": {},
   "source": []
  },
  {
   "cell_type": "code",
   "execution_count": 1,
   "metadata": {},
   "outputs": [
    {
     "data": {
      "text/html": [
       "<div>\n",
       "<style scoped>\n",
       "    .dataframe tbody tr th:only-of-type {\n",
       "        vertical-align: middle;\n",
       "    }\n",
       "\n",
       "    .dataframe tbody tr th {\n",
       "        vertical-align: top;\n",
       "    }\n",
       "\n",
       "    .dataframe thead th {\n",
       "        text-align: right;\n",
       "    }\n",
       "</style>\n",
       "<table border=\"1\" class=\"dataframe\">\n",
       "  <thead>\n",
       "    <tr style=\"text-align: right;\">\n",
       "      <th></th>\n",
       "      <th>Mouse ID</th>\n",
       "      <th>Drug Regimen</th>\n",
       "      <th>Sex</th>\n",
       "      <th>Age_months</th>\n",
       "      <th>Weight (g)</th>\n",
       "      <th>Timepoint</th>\n",
       "      <th>Tumor Volume (mm3)</th>\n",
       "      <th>Metastatic Sites</th>\n",
       "    </tr>\n",
       "  </thead>\n",
       "  <tbody>\n",
       "    <tr>\n",
       "      <td>0</td>\n",
       "      <td>k403</td>\n",
       "      <td>Ramicane</td>\n",
       "      <td>Male</td>\n",
       "      <td>21</td>\n",
       "      <td>16</td>\n",
       "      <td>0</td>\n",
       "      <td>45.000000</td>\n",
       "      <td>0</td>\n",
       "    </tr>\n",
       "    <tr>\n",
       "      <td>1</td>\n",
       "      <td>k403</td>\n",
       "      <td>Ramicane</td>\n",
       "      <td>Male</td>\n",
       "      <td>21</td>\n",
       "      <td>16</td>\n",
       "      <td>5</td>\n",
       "      <td>38.825898</td>\n",
       "      <td>0</td>\n",
       "    </tr>\n",
       "    <tr>\n",
       "      <td>2</td>\n",
       "      <td>k403</td>\n",
       "      <td>Ramicane</td>\n",
       "      <td>Male</td>\n",
       "      <td>21</td>\n",
       "      <td>16</td>\n",
       "      <td>10</td>\n",
       "      <td>35.014271</td>\n",
       "      <td>1</td>\n",
       "    </tr>\n",
       "    <tr>\n",
       "      <td>3</td>\n",
       "      <td>k403</td>\n",
       "      <td>Ramicane</td>\n",
       "      <td>Male</td>\n",
       "      <td>21</td>\n",
       "      <td>16</td>\n",
       "      <td>15</td>\n",
       "      <td>34.223992</td>\n",
       "      <td>1</td>\n",
       "    </tr>\n",
       "    <tr>\n",
       "      <td>4</td>\n",
       "      <td>k403</td>\n",
       "      <td>Ramicane</td>\n",
       "      <td>Male</td>\n",
       "      <td>21</td>\n",
       "      <td>16</td>\n",
       "      <td>20</td>\n",
       "      <td>32.997729</td>\n",
       "      <td>1</td>\n",
       "    </tr>\n",
       "    <tr>\n",
       "      <td>...</td>\n",
       "      <td>...</td>\n",
       "      <td>...</td>\n",
       "      <td>...</td>\n",
       "      <td>...</td>\n",
       "      <td>...</td>\n",
       "      <td>...</td>\n",
       "      <td>...</td>\n",
       "      <td>...</td>\n",
       "    </tr>\n",
       "    <tr>\n",
       "      <td>1888</td>\n",
       "      <td>z969</td>\n",
       "      <td>Naftisol</td>\n",
       "      <td>Male</td>\n",
       "      <td>9</td>\n",
       "      <td>30</td>\n",
       "      <td>25</td>\n",
       "      <td>63.145652</td>\n",
       "      <td>2</td>\n",
       "    </tr>\n",
       "    <tr>\n",
       "      <td>1889</td>\n",
       "      <td>z969</td>\n",
       "      <td>Naftisol</td>\n",
       "      <td>Male</td>\n",
       "      <td>9</td>\n",
       "      <td>30</td>\n",
       "      <td>30</td>\n",
       "      <td>65.841013</td>\n",
       "      <td>3</td>\n",
       "    </tr>\n",
       "    <tr>\n",
       "      <td>1890</td>\n",
       "      <td>z969</td>\n",
       "      <td>Naftisol</td>\n",
       "      <td>Male</td>\n",
       "      <td>9</td>\n",
       "      <td>30</td>\n",
       "      <td>35</td>\n",
       "      <td>69.176246</td>\n",
       "      <td>4</td>\n",
       "    </tr>\n",
       "    <tr>\n",
       "      <td>1891</td>\n",
       "      <td>z969</td>\n",
       "      <td>Naftisol</td>\n",
       "      <td>Male</td>\n",
       "      <td>9</td>\n",
       "      <td>30</td>\n",
       "      <td>40</td>\n",
       "      <td>70.314904</td>\n",
       "      <td>4</td>\n",
       "    </tr>\n",
       "    <tr>\n",
       "      <td>1892</td>\n",
       "      <td>z969</td>\n",
       "      <td>Naftisol</td>\n",
       "      <td>Male</td>\n",
       "      <td>9</td>\n",
       "      <td>30</td>\n",
       "      <td>45</td>\n",
       "      <td>73.867845</td>\n",
       "      <td>4</td>\n",
       "    </tr>\n",
       "  </tbody>\n",
       "</table>\n",
       "<p>1893 rows × 8 columns</p>\n",
       "</div>"
      ],
      "text/plain": [
       "     Mouse ID Drug Regimen   Sex  Age_months  Weight (g)  Timepoint  \\\n",
       "0        k403     Ramicane  Male          21          16          0   \n",
       "1        k403     Ramicane  Male          21          16          5   \n",
       "2        k403     Ramicane  Male          21          16         10   \n",
       "3        k403     Ramicane  Male          21          16         15   \n",
       "4        k403     Ramicane  Male          21          16         20   \n",
       "...       ...          ...   ...         ...         ...        ...   \n",
       "1888     z969     Naftisol  Male           9          30         25   \n",
       "1889     z969     Naftisol  Male           9          30         30   \n",
       "1890     z969     Naftisol  Male           9          30         35   \n",
       "1891     z969     Naftisol  Male           9          30         40   \n",
       "1892     z969     Naftisol  Male           9          30         45   \n",
       "\n",
       "      Tumor Volume (mm3)  Metastatic Sites  \n",
       "0              45.000000                 0  \n",
       "1              38.825898                 0  \n",
       "2              35.014271                 1  \n",
       "3              34.223992                 1  \n",
       "4              32.997729                 1  \n",
       "...                  ...               ...  \n",
       "1888           63.145652                 2  \n",
       "1889           65.841013                 3  \n",
       "1890           69.176246                 4  \n",
       "1891           70.314904                 4  \n",
       "1892           73.867845                 4  \n",
       "\n",
       "[1893 rows x 8 columns]"
      ]
     },
     "execution_count": 1,
     "metadata": {},
     "output_type": "execute_result"
    }
   ],
   "source": [
    "# Dependencies and Setup\n",
    "import matplotlib.pyplot as plt\n",
    "import pandas as pd\n",
    "import scipy.stats as st\n",
    "import numpy as np\n",
    "\n",
    "# Study data files\n",
    "mouse_metadata_path = \"data/Mouse_metadata.csv\"\n",
    "study_results_path = \"data/Study_results.csv\"\n",
    "\n",
    "# Read the mouse data and the study results\n",
    "mouse_metadata = pd.read_csv(mouse_metadata_path)\n",
    "study_results = pd.read_csv(study_results_path)\n",
    "\n",
    "# Combine the data into a single dataset\n",
    "mouse_study = pd.merge(mouse_metadata, study_results, how = \"left\", on= [\"Mouse ID\"])\n",
    "mouse_study"
   ]
  },
  {
   "cell_type": "code",
   "execution_count": 2,
   "metadata": {},
   "outputs": [
    {
     "name": "stdout",
     "output_type": "stream",
     "text": [
      "There are 249 mice in the study.\n"
     ]
    }
   ],
   "source": [
    "# Checking the number of mice in the DataFrame.\n",
    "mouse_number = len(mouse_study[\"Mouse ID\"].unique())\n",
    "print(f'There are {mouse_number} mice in the study.')"
   ]
  },
  {
   "cell_type": "code",
   "execution_count": 3,
   "metadata": {},
   "outputs": [
    {
     "data": {
      "text/html": [
       "<div>\n",
       "<style scoped>\n",
       "    .dataframe tbody tr th:only-of-type {\n",
       "        vertical-align: middle;\n",
       "    }\n",
       "\n",
       "    .dataframe tbody tr th {\n",
       "        vertical-align: top;\n",
       "    }\n",
       "\n",
       "    .dataframe thead th {\n",
       "        text-align: right;\n",
       "    }\n",
       "</style>\n",
       "<table border=\"1\" class=\"dataframe\">\n",
       "  <thead>\n",
       "    <tr style=\"text-align: right;\">\n",
       "      <th></th>\n",
       "      <th>Mouse ID</th>\n",
       "      <th>Drug Regimen</th>\n",
       "      <th>Sex</th>\n",
       "      <th>Age_months</th>\n",
       "      <th>Weight (g)</th>\n",
       "      <th>Timepoint</th>\n",
       "      <th>Tumor Volume (mm3)</th>\n",
       "      <th>Metastatic Sites</th>\n",
       "    </tr>\n",
       "  </thead>\n",
       "  <tbody>\n",
       "    <tr>\n",
       "      <td>909</td>\n",
       "      <td>g989</td>\n",
       "      <td>Propriva</td>\n",
       "      <td>Female</td>\n",
       "      <td>21</td>\n",
       "      <td>26</td>\n",
       "      <td>0</td>\n",
       "      <td>45.000000</td>\n",
       "      <td>0</td>\n",
       "    </tr>\n",
       "    <tr>\n",
       "      <td>911</td>\n",
       "      <td>g989</td>\n",
       "      <td>Propriva</td>\n",
       "      <td>Female</td>\n",
       "      <td>21</td>\n",
       "      <td>26</td>\n",
       "      <td>5</td>\n",
       "      <td>47.570392</td>\n",
       "      <td>0</td>\n",
       "    </tr>\n",
       "    <tr>\n",
       "      <td>913</td>\n",
       "      <td>g989</td>\n",
       "      <td>Propriva</td>\n",
       "      <td>Female</td>\n",
       "      <td>21</td>\n",
       "      <td>26</td>\n",
       "      <td>10</td>\n",
       "      <td>49.880528</td>\n",
       "      <td>0</td>\n",
       "    </tr>\n",
       "    <tr>\n",
       "      <td>915</td>\n",
       "      <td>g989</td>\n",
       "      <td>Propriva</td>\n",
       "      <td>Female</td>\n",
       "      <td>21</td>\n",
       "      <td>26</td>\n",
       "      <td>15</td>\n",
       "      <td>53.442020</td>\n",
       "      <td>0</td>\n",
       "    </tr>\n",
       "    <tr>\n",
       "      <td>917</td>\n",
       "      <td>g989</td>\n",
       "      <td>Propriva</td>\n",
       "      <td>Female</td>\n",
       "      <td>21</td>\n",
       "      <td>26</td>\n",
       "      <td>20</td>\n",
       "      <td>54.657650</td>\n",
       "      <td>1</td>\n",
       "    </tr>\n",
       "  </tbody>\n",
       "</table>\n",
       "</div>"
      ],
      "text/plain": [
       "    Mouse ID Drug Regimen     Sex  Age_months  Weight (g)  Timepoint  \\\n",
       "909     g989     Propriva  Female          21          26          0   \n",
       "911     g989     Propriva  Female          21          26          5   \n",
       "913     g989     Propriva  Female          21          26         10   \n",
       "915     g989     Propriva  Female          21          26         15   \n",
       "917     g989     Propriva  Female          21          26         20   \n",
       "\n",
       "     Tumor Volume (mm3)  Metastatic Sites  \n",
       "909           45.000000                 0  \n",
       "911           47.570392                 0  \n",
       "913           49.880528                 0  \n",
       "915           53.442020                 0  \n",
       "917           54.657650                 1  "
      ]
     },
     "execution_count": 3,
     "metadata": {},
     "output_type": "execute_result"
    }
   ],
   "source": [
    "# Getting the duplicate mice by ID number that shows up for Mouse ID and Timepoint. \n",
    "duplicate_mice = mouse_study[mouse_study.duplicated(['Mouse ID', 'Timepoint'])]\n",
    "duplicate_mice"
   ]
  },
  {
   "cell_type": "code",
   "execution_count": 4,
   "metadata": {},
   "outputs": [
    {
     "data": {
      "text/html": [
       "<div>\n",
       "<style scoped>\n",
       "    .dataframe tbody tr th:only-of-type {\n",
       "        vertical-align: middle;\n",
       "    }\n",
       "\n",
       "    .dataframe tbody tr th {\n",
       "        vertical-align: top;\n",
       "    }\n",
       "\n",
       "    .dataframe thead th {\n",
       "        text-align: right;\n",
       "    }\n",
       "</style>\n",
       "<table border=\"1\" class=\"dataframe\">\n",
       "  <thead>\n",
       "    <tr style=\"text-align: right;\">\n",
       "      <th></th>\n",
       "      <th>Mouse ID</th>\n",
       "      <th>Drug Regimen</th>\n",
       "      <th>Sex</th>\n",
       "      <th>Age_months</th>\n",
       "      <th>Weight (g)</th>\n",
       "      <th>Timepoint</th>\n",
       "      <th>Tumor Volume (mm3)</th>\n",
       "      <th>Metastatic Sites</th>\n",
       "    </tr>\n",
       "  </thead>\n",
       "  <tbody>\n",
       "    <tr>\n",
       "      <td>1</td>\n",
       "      <td>k403</td>\n",
       "      <td>Ramicane</td>\n",
       "      <td>Male</td>\n",
       "      <td>21</td>\n",
       "      <td>16</td>\n",
       "      <td>5</td>\n",
       "      <td>38.825898</td>\n",
       "      <td>0</td>\n",
       "    </tr>\n",
       "    <tr>\n",
       "      <td>2</td>\n",
       "      <td>k403</td>\n",
       "      <td>Ramicane</td>\n",
       "      <td>Male</td>\n",
       "      <td>21</td>\n",
       "      <td>16</td>\n",
       "      <td>10</td>\n",
       "      <td>35.014271</td>\n",
       "      <td>1</td>\n",
       "    </tr>\n",
       "    <tr>\n",
       "      <td>3</td>\n",
       "      <td>k403</td>\n",
       "      <td>Ramicane</td>\n",
       "      <td>Male</td>\n",
       "      <td>21</td>\n",
       "      <td>16</td>\n",
       "      <td>15</td>\n",
       "      <td>34.223992</td>\n",
       "      <td>1</td>\n",
       "    </tr>\n",
       "    <tr>\n",
       "      <td>4</td>\n",
       "      <td>k403</td>\n",
       "      <td>Ramicane</td>\n",
       "      <td>Male</td>\n",
       "      <td>21</td>\n",
       "      <td>16</td>\n",
       "      <td>20</td>\n",
       "      <td>32.997729</td>\n",
       "      <td>1</td>\n",
       "    </tr>\n",
       "    <tr>\n",
       "      <td>5</td>\n",
       "      <td>k403</td>\n",
       "      <td>Ramicane</td>\n",
       "      <td>Male</td>\n",
       "      <td>21</td>\n",
       "      <td>16</td>\n",
       "      <td>25</td>\n",
       "      <td>33.464577</td>\n",
       "      <td>1</td>\n",
       "    </tr>\n",
       "    <tr>\n",
       "      <td>...</td>\n",
       "      <td>...</td>\n",
       "      <td>...</td>\n",
       "      <td>...</td>\n",
       "      <td>...</td>\n",
       "      <td>...</td>\n",
       "      <td>...</td>\n",
       "      <td>...</td>\n",
       "      <td>...</td>\n",
       "    </tr>\n",
       "    <tr>\n",
       "      <td>1888</td>\n",
       "      <td>z969</td>\n",
       "      <td>Naftisol</td>\n",
       "      <td>Male</td>\n",
       "      <td>9</td>\n",
       "      <td>30</td>\n",
       "      <td>25</td>\n",
       "      <td>63.145652</td>\n",
       "      <td>2</td>\n",
       "    </tr>\n",
       "    <tr>\n",
       "      <td>1889</td>\n",
       "      <td>z969</td>\n",
       "      <td>Naftisol</td>\n",
       "      <td>Male</td>\n",
       "      <td>9</td>\n",
       "      <td>30</td>\n",
       "      <td>30</td>\n",
       "      <td>65.841013</td>\n",
       "      <td>3</td>\n",
       "    </tr>\n",
       "    <tr>\n",
       "      <td>1890</td>\n",
       "      <td>z969</td>\n",
       "      <td>Naftisol</td>\n",
       "      <td>Male</td>\n",
       "      <td>9</td>\n",
       "      <td>30</td>\n",
       "      <td>35</td>\n",
       "      <td>69.176246</td>\n",
       "      <td>4</td>\n",
       "    </tr>\n",
       "    <tr>\n",
       "      <td>1891</td>\n",
       "      <td>z969</td>\n",
       "      <td>Naftisol</td>\n",
       "      <td>Male</td>\n",
       "      <td>9</td>\n",
       "      <td>30</td>\n",
       "      <td>40</td>\n",
       "      <td>70.314904</td>\n",
       "      <td>4</td>\n",
       "    </tr>\n",
       "    <tr>\n",
       "      <td>1892</td>\n",
       "      <td>z969</td>\n",
       "      <td>Naftisol</td>\n",
       "      <td>Male</td>\n",
       "      <td>9</td>\n",
       "      <td>30</td>\n",
       "      <td>45</td>\n",
       "      <td>73.867845</td>\n",
       "      <td>4</td>\n",
       "    </tr>\n",
       "  </tbody>\n",
       "</table>\n",
       "<p>1644 rows × 8 columns</p>\n",
       "</div>"
      ],
      "text/plain": [
       "     Mouse ID Drug Regimen   Sex  Age_months  Weight (g)  Timepoint  \\\n",
       "1        k403     Ramicane  Male          21          16          5   \n",
       "2        k403     Ramicane  Male          21          16         10   \n",
       "3        k403     Ramicane  Male          21          16         15   \n",
       "4        k403     Ramicane  Male          21          16         20   \n",
       "5        k403     Ramicane  Male          21          16         25   \n",
       "...       ...          ...   ...         ...         ...        ...   \n",
       "1888     z969     Naftisol  Male           9          30         25   \n",
       "1889     z969     Naftisol  Male           9          30         30   \n",
       "1890     z969     Naftisol  Male           9          30         35   \n",
       "1891     z969     Naftisol  Male           9          30         40   \n",
       "1892     z969     Naftisol  Male           9          30         45   \n",
       "\n",
       "      Tumor Volume (mm3)  Metastatic Sites  \n",
       "1              38.825898                 0  \n",
       "2              35.014271                 1  \n",
       "3              34.223992                 1  \n",
       "4              32.997729                 1  \n",
       "5              33.464577                 1  \n",
       "...                  ...               ...  \n",
       "1888           63.145652                 2  \n",
       "1889           65.841013                 3  \n",
       "1890           69.176246                 4  \n",
       "1891           70.314904                 4  \n",
       "1892           73.867845                 4  \n",
       "\n",
       "[1644 rows x 8 columns]"
      ]
     },
     "execution_count": 4,
     "metadata": {},
     "output_type": "execute_result"
    }
   ],
   "source": [
    "# Optional: Get all the data for the duplicate mouse ID. \n",
    "duplicate_mice = mouse_study[mouse_study.duplicated(['Mouse ID'])]\n",
    "duplicate_mice"
   ]
  },
  {
   "cell_type": "code",
   "execution_count": 5,
   "metadata": {},
   "outputs": [
    {
     "data": {
      "text/html": [
       "<div>\n",
       "<style scoped>\n",
       "    .dataframe tbody tr th:only-of-type {\n",
       "        vertical-align: middle;\n",
       "    }\n",
       "\n",
       "    .dataframe tbody tr th {\n",
       "        vertical-align: top;\n",
       "    }\n",
       "\n",
       "    .dataframe thead th {\n",
       "        text-align: right;\n",
       "    }\n",
       "</style>\n",
       "<table border=\"1\" class=\"dataframe\">\n",
       "  <thead>\n",
       "    <tr style=\"text-align: right;\">\n",
       "      <th></th>\n",
       "      <th>Mouse ID</th>\n",
       "      <th>Drug Regimen</th>\n",
       "      <th>Sex</th>\n",
       "      <th>Age_months</th>\n",
       "      <th>Weight (g)</th>\n",
       "      <th>Timepoint</th>\n",
       "      <th>Tumor Volume (mm3)</th>\n",
       "      <th>Metastatic Sites</th>\n",
       "    </tr>\n",
       "  </thead>\n",
       "  <tbody>\n",
       "    <tr>\n",
       "      <td>9</td>\n",
       "      <td>k403</td>\n",
       "      <td>Ramicane</td>\n",
       "      <td>Male</td>\n",
       "      <td>21</td>\n",
       "      <td>16</td>\n",
       "      <td>45</td>\n",
       "      <td>22.050126</td>\n",
       "      <td>1</td>\n",
       "    </tr>\n",
       "    <tr>\n",
       "      <td>19</td>\n",
       "      <td>s185</td>\n",
       "      <td>Capomulin</td>\n",
       "      <td>Female</td>\n",
       "      <td>3</td>\n",
       "      <td>17</td>\n",
       "      <td>45</td>\n",
       "      <td>23.343598</td>\n",
       "      <td>1</td>\n",
       "    </tr>\n",
       "    <tr>\n",
       "      <td>29</td>\n",
       "      <td>x401</td>\n",
       "      <td>Capomulin</td>\n",
       "      <td>Female</td>\n",
       "      <td>16</td>\n",
       "      <td>15</td>\n",
       "      <td>45</td>\n",
       "      <td>28.484033</td>\n",
       "      <td>0</td>\n",
       "    </tr>\n",
       "    <tr>\n",
       "      <td>39</td>\n",
       "      <td>m601</td>\n",
       "      <td>Capomulin</td>\n",
       "      <td>Male</td>\n",
       "      <td>22</td>\n",
       "      <td>17</td>\n",
       "      <td>45</td>\n",
       "      <td>28.430964</td>\n",
       "      <td>1</td>\n",
       "    </tr>\n",
       "    <tr>\n",
       "      <td>49</td>\n",
       "      <td>g791</td>\n",
       "      <td>Ramicane</td>\n",
       "      <td>Male</td>\n",
       "      <td>11</td>\n",
       "      <td>16</td>\n",
       "      <td>45</td>\n",
       "      <td>29.128472</td>\n",
       "      <td>1</td>\n",
       "    </tr>\n",
       "  </tbody>\n",
       "</table>\n",
       "</div>"
      ],
      "text/plain": [
       "   Mouse ID Drug Regimen     Sex  Age_months  Weight (g)  Timepoint  \\\n",
       "9      k403     Ramicane    Male          21          16         45   \n",
       "19     s185    Capomulin  Female           3          17         45   \n",
       "29     x401    Capomulin  Female          16          15         45   \n",
       "39     m601    Capomulin    Male          22          17         45   \n",
       "49     g791     Ramicane    Male          11          16         45   \n",
       "\n",
       "    Tumor Volume (mm3)  Metastatic Sites  \n",
       "9            22.050126                 1  \n",
       "19           23.343598                 1  \n",
       "29           28.484033                 0  \n",
       "39           28.430964                 1  \n",
       "49           29.128472                 1  "
      ]
     },
     "execution_count": 5,
     "metadata": {},
     "output_type": "execute_result"
    }
   ],
   "source": [
    "# Create a clean DataFrame by dropping the duplicate mouse by its ID.\n",
    "mouse_study.sort_values(['Mouse ID', 'Timepoint'],ascending= True)\n",
    "mouse_clean = mouse_study.drop_duplicates(subset='Mouse ID', keep='last')\n",
    "mouse_clean.head()"
   ]
  },
  {
   "cell_type": "code",
   "execution_count": 6,
   "metadata": {},
   "outputs": [
    {
     "name": "stdout",
     "output_type": "stream",
     "text": [
      "There are now 249 mice in the new dataset.\n"
     ]
    }
   ],
   "source": [
    "# Checking the number of mice in the clean DataFrame.\n",
    "mouse_number_new = mouse_clean['Mouse ID'].count()\n",
    "print(f'There are now {mouse_number_new} mice in the new dataset.')"
   ]
  },
  {
   "cell_type": "markdown",
   "metadata": {},
   "source": [
    "## Summary Statistics"
   ]
  },
  {
   "cell_type": "code",
   "execution_count": 7,
   "metadata": {},
   "outputs": [],
   "source": [
    "# Generate a summary statistics table of mean, median, variance, standard deviation, and SEM of the tumor volume for each regimen\n",
    "\n",
    "# This method is the most straighforward, creating multiple series and putting them all together at the end.\n",
    "regimen = mouse_clean.groupby(['Drug Regimen'])\n",
    "tumor_avg = regimen['Tumor Volume (mm3)'].mean()\n",
    "tumor_med = regimen['Tumor Volume (mm3)'].median()\n",
    "tumor_var = regimen['Tumor Volume (mm3)'].var()\n",
    "tumor_std = regimen['Tumor Volume (mm3)'].std()\n",
    "tumor_sem = regimen['Tumor Volume (mm3)'].sem()"
   ]
  },
  {
   "cell_type": "code",
   "execution_count": 8,
   "metadata": {
    "scrolled": true
   },
   "outputs": [
    {
     "data": {
      "text/html": [
       "<style  type=\"text/css\" >\n",
       "</style><table id=\"T_6008f668_7d21_11ea_8e51_b44bd62aa5ff\" ><thead>    <tr>        <th class=\"blank level0\" ></th>        <th class=\"col_heading level0 col0\" >Mean</th>        <th class=\"col_heading level0 col1\" >Median</th>        <th class=\"col_heading level0 col2\" >Variance</th>        <th class=\"col_heading level0 col3\" >Standard Deviation</th>        <th class=\"col_heading level0 col4\" >SEM</th>    </tr>    <tr>        <th class=\"index_name level0\" >Drug Regimen</th>        <th class=\"blank\" ></th>        <th class=\"blank\" ></th>        <th class=\"blank\" ></th>        <th class=\"blank\" ></th>        <th class=\"blank\" ></th>    </tr></thead><tbody>\n",
       "                <tr>\n",
       "                        <th id=\"T_6008f668_7d21_11ea_8e51_b44bd62aa5fflevel0_row0\" class=\"row_heading level0 row0\" >Capomulin</th>\n",
       "                        <td id=\"T_6008f668_7d21_11ea_8e51_b44bd62aa5ffrow0_col0\" class=\"data row0 col0\" >36.668</td>\n",
       "                        <td id=\"T_6008f668_7d21_11ea_8e51_b44bd62aa5ffrow0_col1\" class=\"data row0 col1\" >38.125</td>\n",
       "                        <td id=\"T_6008f668_7d21_11ea_8e51_b44bd62aa5ffrow0_col2\" class=\"data row0 col2\" >32.663</td>\n",
       "                        <td id=\"T_6008f668_7d21_11ea_8e51_b44bd62aa5ffrow0_col3\" class=\"data row0 col3\" >5.715</td>\n",
       "                        <td id=\"T_6008f668_7d21_11ea_8e51_b44bd62aa5ffrow0_col4\" class=\"data row0 col4\" >1.143</td>\n",
       "            </tr>\n",
       "            <tr>\n",
       "                        <th id=\"T_6008f668_7d21_11ea_8e51_b44bd62aa5fflevel0_row1\" class=\"row_heading level0 row1\" >Ceftamin</th>\n",
       "                        <td id=\"T_6008f668_7d21_11ea_8e51_b44bd62aa5ffrow1_col0\" class=\"data row1 col0\" >57.754</td>\n",
       "                        <td id=\"T_6008f668_7d21_11ea_8e51_b44bd62aa5ffrow1_col1\" class=\"data row1 col1\" >59.852</td>\n",
       "                        <td id=\"T_6008f668_7d21_11ea_8e51_b44bd62aa5ffrow1_col2\" class=\"data row1 col2\" >69.983</td>\n",
       "                        <td id=\"T_6008f668_7d21_11ea_8e51_b44bd62aa5ffrow1_col3\" class=\"data row1 col3\" >8.366</td>\n",
       "                        <td id=\"T_6008f668_7d21_11ea_8e51_b44bd62aa5ffrow1_col4\" class=\"data row1 col4\" >1.673</td>\n",
       "            </tr>\n",
       "            <tr>\n",
       "                        <th id=\"T_6008f668_7d21_11ea_8e51_b44bd62aa5fflevel0_row2\" class=\"row_heading level0 row2\" >Infubinol</th>\n",
       "                        <td id=\"T_6008f668_7d21_11ea_8e51_b44bd62aa5ffrow2_col0\" class=\"data row2 col0\" >58.178</td>\n",
       "                        <td id=\"T_6008f668_7d21_11ea_8e51_b44bd62aa5ffrow2_col1\" class=\"data row2 col1\" >60.165</td>\n",
       "                        <td id=\"T_6008f668_7d21_11ea_8e51_b44bd62aa5ffrow2_col2\" class=\"data row2 col2\" >74.011</td>\n",
       "                        <td id=\"T_6008f668_7d21_11ea_8e51_b44bd62aa5ffrow2_col3\" class=\"data row2 col3\" >8.603</td>\n",
       "                        <td id=\"T_6008f668_7d21_11ea_8e51_b44bd62aa5ffrow2_col4\" class=\"data row2 col4\" >1.721</td>\n",
       "            </tr>\n",
       "            <tr>\n",
       "                        <th id=\"T_6008f668_7d21_11ea_8e51_b44bd62aa5fflevel0_row3\" class=\"row_heading level0 row3\" >Ketapril</th>\n",
       "                        <td id=\"T_6008f668_7d21_11ea_8e51_b44bd62aa5ffrow3_col0\" class=\"data row3 col0\" >62.806</td>\n",
       "                        <td id=\"T_6008f668_7d21_11ea_8e51_b44bd62aa5ffrow3_col1\" class=\"data row3 col1\" >64.488</td>\n",
       "                        <td id=\"T_6008f668_7d21_11ea_8e51_b44bd62aa5ffrow3_col2\" class=\"data row3 col2\" >98.921</td>\n",
       "                        <td id=\"T_6008f668_7d21_11ea_8e51_b44bd62aa5ffrow3_col3\" class=\"data row3 col3\" >9.946</td>\n",
       "                        <td id=\"T_6008f668_7d21_11ea_8e51_b44bd62aa5ffrow3_col4\" class=\"data row3 col4\" >1.989</td>\n",
       "            </tr>\n",
       "            <tr>\n",
       "                        <th id=\"T_6008f668_7d21_11ea_8e51_b44bd62aa5fflevel0_row4\" class=\"row_heading level0 row4\" >Naftisol</th>\n",
       "                        <td id=\"T_6008f668_7d21_11ea_8e51_b44bd62aa5ffrow4_col0\" class=\"data row4 col0\" >61.206</td>\n",
       "                        <td id=\"T_6008f668_7d21_11ea_8e51_b44bd62aa5ffrow4_col1\" class=\"data row4 col1\" >63.283</td>\n",
       "                        <td id=\"T_6008f668_7d21_11ea_8e51_b44bd62aa5ffrow4_col2\" class=\"data row4 col2\" >106.030</td>\n",
       "                        <td id=\"T_6008f668_7d21_11ea_8e51_b44bd62aa5ffrow4_col3\" class=\"data row4 col3\" >10.297</td>\n",
       "                        <td id=\"T_6008f668_7d21_11ea_8e51_b44bd62aa5ffrow4_col4\" class=\"data row4 col4\" >2.059</td>\n",
       "            </tr>\n",
       "            <tr>\n",
       "                        <th id=\"T_6008f668_7d21_11ea_8e51_b44bd62aa5fflevel0_row5\" class=\"row_heading level0 row5\" >Placebo</th>\n",
       "                        <td id=\"T_6008f668_7d21_11ea_8e51_b44bd62aa5ffrow5_col0\" class=\"data row5 col0\" >60.508</td>\n",
       "                        <td id=\"T_6008f668_7d21_11ea_8e51_b44bd62aa5ffrow5_col1\" class=\"data row5 col1\" >62.031</td>\n",
       "                        <td id=\"T_6008f668_7d21_11ea_8e51_b44bd62aa5ffrow5_col2\" class=\"data row5 col2\" >78.760</td>\n",
       "                        <td id=\"T_6008f668_7d21_11ea_8e51_b44bd62aa5ffrow5_col3\" class=\"data row5 col3\" >8.875</td>\n",
       "                        <td id=\"T_6008f668_7d21_11ea_8e51_b44bd62aa5ffrow5_col4\" class=\"data row5 col4\" >1.775</td>\n",
       "            </tr>\n",
       "            <tr>\n",
       "                        <th id=\"T_6008f668_7d21_11ea_8e51_b44bd62aa5fflevel0_row6\" class=\"row_heading level0 row6\" >Propriva</th>\n",
       "                        <td id=\"T_6008f668_7d21_11ea_8e51_b44bd62aa5ffrow6_col0\" class=\"data row6 col0\" >56.737</td>\n",
       "                        <td id=\"T_6008f668_7d21_11ea_8e51_b44bd62aa5ffrow6_col1\" class=\"data row6 col1\" >55.841</td>\n",
       "                        <td id=\"T_6008f668_7d21_11ea_8e51_b44bd62aa5ffrow6_col2\" class=\"data row6 col2\" >69.349</td>\n",
       "                        <td id=\"T_6008f668_7d21_11ea_8e51_b44bd62aa5ffrow6_col3\" class=\"data row6 col3\" >8.328</td>\n",
       "                        <td id=\"T_6008f668_7d21_11ea_8e51_b44bd62aa5ffrow6_col4\" class=\"data row6 col4\" >1.666</td>\n",
       "            </tr>\n",
       "            <tr>\n",
       "                        <th id=\"T_6008f668_7d21_11ea_8e51_b44bd62aa5fflevel0_row7\" class=\"row_heading level0 row7\" >Ramicane</th>\n",
       "                        <td id=\"T_6008f668_7d21_11ea_8e51_b44bd62aa5ffrow7_col0\" class=\"data row7 col0\" >36.191</td>\n",
       "                        <td id=\"T_6008f668_7d21_11ea_8e51_b44bd62aa5ffrow7_col1\" class=\"data row7 col1\" >36.562</td>\n",
       "                        <td id=\"T_6008f668_7d21_11ea_8e51_b44bd62aa5ffrow7_col2\" class=\"data row7 col2\" >32.166</td>\n",
       "                        <td id=\"T_6008f668_7d21_11ea_8e51_b44bd62aa5ffrow7_col3\" class=\"data row7 col3\" >5.672</td>\n",
       "                        <td id=\"T_6008f668_7d21_11ea_8e51_b44bd62aa5ffrow7_col4\" class=\"data row7 col4\" >1.134</td>\n",
       "            </tr>\n",
       "            <tr>\n",
       "                        <th id=\"T_6008f668_7d21_11ea_8e51_b44bd62aa5fflevel0_row8\" class=\"row_heading level0 row8\" >Stelasyn</th>\n",
       "                        <td id=\"T_6008f668_7d21_11ea_8e51_b44bd62aa5ffrow8_col0\" class=\"data row8 col0\" >61.002</td>\n",
       "                        <td id=\"T_6008f668_7d21_11ea_8e51_b44bd62aa5ffrow8_col1\" class=\"data row8 col1\" >62.192</td>\n",
       "                        <td id=\"T_6008f668_7d21_11ea_8e51_b44bd62aa5ffrow8_col2\" class=\"data row8 col2\" >90.332</td>\n",
       "                        <td id=\"T_6008f668_7d21_11ea_8e51_b44bd62aa5ffrow8_col3\" class=\"data row8 col3\" >9.504</td>\n",
       "                        <td id=\"T_6008f668_7d21_11ea_8e51_b44bd62aa5ffrow8_col4\" class=\"data row8 col4\" >1.940</td>\n",
       "            </tr>\n",
       "            <tr>\n",
       "                        <th id=\"T_6008f668_7d21_11ea_8e51_b44bd62aa5fflevel0_row9\" class=\"row_heading level0 row9\" >Zoniferol</th>\n",
       "                        <td id=\"T_6008f668_7d21_11ea_8e51_b44bd62aa5ffrow9_col0\" class=\"data row9 col0\" >59.181</td>\n",
       "                        <td id=\"T_6008f668_7d21_11ea_8e51_b44bd62aa5ffrow9_col1\" class=\"data row9 col1\" >61.840</td>\n",
       "                        <td id=\"T_6008f668_7d21_11ea_8e51_b44bd62aa5ffrow9_col2\" class=\"data row9 col2\" >76.862</td>\n",
       "                        <td id=\"T_6008f668_7d21_11ea_8e51_b44bd62aa5ffrow9_col3\" class=\"data row9 col3\" >8.767</td>\n",
       "                        <td id=\"T_6008f668_7d21_11ea_8e51_b44bd62aa5ffrow9_col4\" class=\"data row9 col4\" >1.753</td>\n",
       "            </tr>\n",
       "    </tbody></table>"
      ],
      "text/plain": [
       "<pandas.io.formats.style.Styler at 0x174b2271348>"
      ]
     },
     "execution_count": 8,
     "metadata": {},
     "output_type": "execute_result"
    }
   ],
   "source": [
    "# Generate a summary statistics table of mean, median, variance, standard deviation, and SEM of the tumor volume for each regimen\n",
    "general_sum = pd.DataFrame({'Mean': tumor_avg,\n",
    "                            'Median': tumor_med,\n",
    "                            'Variance': tumor_var,\n",
    "                            'Standard Deviation': tumor_std,\n",
    "                            'SEM': tumor_sem})\n",
    "general_sum.style.format('{:,.3f}')"
   ]
  },
  {
   "cell_type": "markdown",
   "metadata": {},
   "source": [
    "## Bar Plots"
   ]
  },
  {
   "cell_type": "code",
   "execution_count": 75,
   "metadata": {},
   "outputs": [
    {
     "data": {
      "text/plain": [
       "<matplotlib.axes._subplots.AxesSubplot at 0x174b770efc8>"
      ]
     },
     "execution_count": 75,
     "metadata": {},
     "output_type": "execute_result"
    },
    {
     "data": {
      "image/png": "[encoded data removed]",
      "text/plain": [
       "<Figure size 432x288 with 1 Axes>"
      ]
     },
     "metadata": {
      "needs_background": "light"
     },
     "output_type": "display_data"
    }
   ],
   "source": [
    "# Generate a bar plot showing the number of mice per regimen for each treatment throughout the course of the study using pandas.\n",
    "\n",
    "#Re-doing the data set to include more data similar to examples given on Slack\n",
    "mouse_clean_whole = mouse_study.drop_duplicates(subset=['Mouse ID', 'Timepoint'], keep='last')\n",
    "\n",
    "regimen_whole = mouse_clean_whole.groupby(['Drug Regimen'])\n",
    "regimen_unique = regimen_whole['Drug Regimen'].unique().str[0]\n",
    "mouse_clean_count = regimen_whole['Mouse ID'].count()\n",
    "\n",
    "general_new = pd.DataFrame({'Drug Regimen': regimen_unique,\n",
    "                            'Data Points': mouse_clean_count})\n",
    "\n",
    "#Sort data by descending order of Data Points\n",
    "bar_sort = general_new.sort_values('Data Points', ascending = False)\n",
    "regimen_bar = bar_sort[\"Drug Regimen\"]\n",
    "data_bar = bar_sort['Data Points']\n",
    "\n",
    "#Creating the bar graph based on Pandas\n",
    "bar_panda = bar_sort.plot.bar('Drug Regimen', 'Data Points', align='center', color='blue')\n",
    "bar_panda.set_title('Number of Mice per Regimen', fontsize=18)\n",
    "bar_panda.set_ylabel('Number of Data Points', fontsize=14)\n",
    "bar_panda.set_xlabel('Type of Drug Regimen', fontsize=14)\n",
    "bar_panda"
   ]
  },
  {
   "cell_type": "code",
   "execution_count": 76,
   "metadata": {},
   "outputs": [
    {
     "data": {
      "image/png": "[encoded data removed]",
      "text/plain": [
       "<Figure size 432x288 with 1 Axes>"
      ]
     },
     "metadata": {
      "needs_background": "light"
     },
     "output_type": "display_data"
    }
   ],
   "source": [
    "# Generate a bar plot showing the number of mice per regimen for each treatment throughout the course of the study using pyplot.\n",
    "plt.bar(regimen_bar, data_bar, align='center', edgecolor ='k', color='blue')\n",
    "plt.title('Number of Mice per Regimen', fontsize=18, fontweight='bold')\n",
    "plt.xlabel('Type of Drug Regimen', fontsize=14)\n",
    "plt.ylabel('Number of Data Points', fontsize=14)\n",
    "plt.xlim(-0.75, len(regimen_bar)-0.25)\n",
    "plt.xticks(rotation=90)\n",
    "plt.show()"
   ]
  },
  {
   "cell_type": "markdown",
   "metadata": {},
   "source": [
    "## Pie Plots"
   ]
  },
  {
   "cell_type": "code",
   "execution_count": 50,
   "metadata": {},
   "outputs": [
    {
     "data": {
      "text/plain": [
       "<matplotlib.axes._subplots.AxesSubplot at 0x174b4c42a08>"
      ]
     },
     "execution_count": 50,
     "metadata": {},
     "output_type": "execute_result"
    },
    {
     "data": {
      "image/png": "[encoded data removed]",
      "text/plain": [
       "<Figure size 360x360 with 1 Axes>"
      ]
     },
     "metadata": {},
     "output_type": "display_data"
    }
   ],
   "source": [
    "# Generate a pie plot showing the distribution of female versus male mice using pandas\n",
    "sex_group = mouse_clean.groupby(['Sex'])\n",
    "sex_unique = sex_group['Sex'].unique().str[0]\n",
    "sex_count = sex_group['Mouse ID'].count()\n",
    "\n",
    "sex_df = pd.DataFrame({'Sex': sex_unique,\n",
    "                       '% of Sex': sex_count})\n",
    "\n",
    "pie_sort = sex_df.sort_values('% of Sex', ascending = False)\n",
    "pie_sex = pie_sort['Sex']\n",
    "pie_count = pie_sort['% of Sex']\n",
    "\n",
    "pie_pandas = pie_sort.plot.pie(y='% of Sex', figsize=(5, 5), autopct='%1.1f%%', colors = ('c', 'r'), startangle = 25)\n",
    "pie_pandas"
   ]
  },
  {
   "cell_type": "code",
   "execution_count": 44,
   "metadata": {},
   "outputs": [
    {
     "data": {
      "image/png": "[encoded data removed]",
      "text/plain": [
       "<Figure size 432x288 with 1 Axes>"
      ]
     },
     "metadata": {},
     "output_type": "display_data"
    }
   ],
   "source": [
    "# Generate a pie plot showing the distribution of female versus male mice using pyplot\n",
    "plt.pie(pie_count, labels=pie_sex, colors=('c', 'r'), autopct='%1.1f%%', shadow=True, startangle = 25)\n",
    "plt.axis('equal')\n",
    "plt.title('% of Sex', fontsize = 14, fontweight = 'bold')\n",
    "plt.show()"
   ]
  },
  {
   "cell_type": "markdown",
   "metadata": {},
   "source": [
    "## Quartiles, Outliers and Boxplots"
   ]
  },
  {
   "cell_type": "code",
   "execution_count": 15,
   "metadata": {},
   "outputs": [
    {
     "data": {
      "text/html": [
       "<div>\n",
       "<style scoped>\n",
       "    .dataframe tbody tr th:only-of-type {\n",
       "        vertical-align: middle;\n",
       "    }\n",
       "\n",
       "    .dataframe tbody tr th {\n",
       "        vertical-align: top;\n",
       "    }\n",
       "\n",
       "    .dataframe thead th {\n",
       "        text-align: right;\n",
       "    }\n",
       "</style>\n",
       "<table border=\"1\" class=\"dataframe\">\n",
       "  <thead>\n",
       "    <tr style=\"text-align: right;\">\n",
       "      <th></th>\n",
       "      <th>Drug Regimen</th>\n",
       "      <th>Mouse ID</th>\n",
       "      <th>Tumor Volume</th>\n",
       "    </tr>\n",
       "  </thead>\n",
       "  <tbody>\n",
       "    <tr>\n",
       "      <td>0</td>\n",
       "      <td>Ramicane</td>\n",
       "      <td>k403</td>\n",
       "      <td>22.050126</td>\n",
       "    </tr>\n",
       "    <tr>\n",
       "      <td>1</td>\n",
       "      <td>Capomulin</td>\n",
       "      <td>s185</td>\n",
       "      <td>23.343598</td>\n",
       "    </tr>\n",
       "    <tr>\n",
       "      <td>2</td>\n",
       "      <td>Capomulin</td>\n",
       "      <td>x401</td>\n",
       "      <td>28.484033</td>\n",
       "    </tr>\n",
       "    <tr>\n",
       "      <td>3</td>\n",
       "      <td>Capomulin</td>\n",
       "      <td>m601</td>\n",
       "      <td>28.430964</td>\n",
       "    </tr>\n",
       "    <tr>\n",
       "      <td>4</td>\n",
       "      <td>Ramicane</td>\n",
       "      <td>g791</td>\n",
       "      <td>29.128472</td>\n",
       "    </tr>\n",
       "    <tr>\n",
       "      <td>...</td>\n",
       "      <td>...</td>\n",
       "      <td>...</td>\n",
       "      <td>...</td>\n",
       "    </tr>\n",
       "    <tr>\n",
       "      <td>95</td>\n",
       "      <td>Ceftamin</td>\n",
       "      <td>x822</td>\n",
       "      <td>61.386660</td>\n",
       "    </tr>\n",
       "    <tr>\n",
       "      <td>96</td>\n",
       "      <td>Infubinol</td>\n",
       "      <td>y163</td>\n",
       "      <td>67.685569</td>\n",
       "    </tr>\n",
       "    <tr>\n",
       "      <td>97</td>\n",
       "      <td>Ceftamin</td>\n",
       "      <td>y769</td>\n",
       "      <td>68.594745</td>\n",
       "    </tr>\n",
       "    <tr>\n",
       "      <td>98</td>\n",
       "      <td>Ceftamin</td>\n",
       "      <td>y865</td>\n",
       "      <td>64.729837</td>\n",
       "    </tr>\n",
       "    <tr>\n",
       "      <td>99</td>\n",
       "      <td>Infubinol</td>\n",
       "      <td>z581</td>\n",
       "      <td>62.754451</td>\n",
       "    </tr>\n",
       "  </tbody>\n",
       "</table>\n",
       "<p>100 rows × 3 columns</p>\n",
       "</div>"
      ],
      "text/plain": [
       "   Drug Regimen Mouse ID  Tumor Volume\n",
       "0      Ramicane     k403     22.050126\n",
       "1     Capomulin     s185     23.343598\n",
       "2     Capomulin     x401     28.484033\n",
       "3     Capomulin     m601     28.430964\n",
       "4      Ramicane     g791     29.128472\n",
       "..          ...      ...           ...\n",
       "95     Ceftamin     x822     61.386660\n",
       "96    Infubinol     y163     67.685569\n",
       "97     Ceftamin     y769     68.594745\n",
       "98     Ceftamin     y865     64.729837\n",
       "99    Infubinol     z581     62.754451\n",
       "\n",
       "[100 rows x 3 columns]"
      ]
     },
     "execution_count": 15,
     "metadata": {},
     "output_type": "execute_result"
    }
   ],
   "source": [
    "#Get data for only the drug regimen listed from data set that has only the last Timepoint for each mouse\n",
    "new_mouse_list = mouse_clean[mouse_clean['Drug Regimen'].isin(['Capomulin', 'Ramicane', 'Infubinol', 'Ceftamin'])]\n",
    "\n",
    "# Calculate the final tumor volume of each mouse across four of the most promising treatment regimens.\n",
    "volume_df = pd.DataFrame({'Drug Regimen': new_mouse_list['Drug Regimen'],\n",
    "                          'Mouse ID': new_mouse_list['Mouse ID'],\n",
    "                          'Tumor Volume': new_mouse_list['Tumor Volume (mm3)']})\n",
    "volume_df.reset_index(drop = True)"
   ]
  },
  {
   "cell_type": "code",
   "execution_count": 16,
   "metadata": {},
   "outputs": [
    {
     "data": {
      "text/html": [
       "<style  type=\"text/css\" >\n",
       "</style><table id=\"T_927dc05c_7d21_11ea_80a6_b44bd62aa5ff\" ><thead>    <tr>        <th class=\"col_heading level0 col0\" >Statistics</th>        <th class=\"col_heading level0 col1\" >Values</th>    </tr></thead><tbody>\n",
       "                <tr>\n",
       "                                <td id=\"T_927dc05c_7d21_11ea_80a6_b44bd62aa5ffrow0_col0\" class=\"data row0 col0\" >Median Quartile</td>\n",
       "                        <td id=\"T_927dc05c_7d21_11ea_80a6_b44bd62aa5ffrow0_col1\" class=\"data row0 col1\" >45</td>\n",
       "            </tr>\n",
       "            <tr>\n",
       "                                <td id=\"T_927dc05c_7d21_11ea_80a6_b44bd62aa5ffrow1_col0\" class=\"data row1 col0\" >Lower Quartile</td>\n",
       "                        <td id=\"T_927dc05c_7d21_11ea_80a6_b44bd62aa5ffrow1_col1\" class=\"data row1 col1\" >37.1877</td>\n",
       "            </tr>\n",
       "            <tr>\n",
       "                                <td id=\"T_927dc05c_7d21_11ea_80a6_b44bd62aa5ffrow2_col0\" class=\"data row2 col0\" >Upper Quartile</td>\n",
       "                        <td id=\"T_927dc05c_7d21_11ea_80a6_b44bd62aa5ffrow2_col1\" class=\"data row2 col1\" >59.9303</td>\n",
       "            </tr>\n",
       "            <tr>\n",
       "                                <td id=\"T_927dc05c_7d21_11ea_80a6_b44bd62aa5ffrow3_col0\" class=\"data row3 col0\" >Interquartile Range (IQR)</td>\n",
       "                        <td id=\"T_927dc05c_7d21_11ea_80a6_b44bd62aa5ffrow3_col1\" class=\"data row3 col1\" >22.7425</td>\n",
       "            </tr>\n",
       "            <tr>\n",
       "                                <td id=\"T_927dc05c_7d21_11ea_80a6_b44bd62aa5ffrow4_col0\" class=\"data row4 col0\" >Lower Bound</td>\n",
       "                        <td id=\"T_927dc05c_7d21_11ea_80a6_b44bd62aa5ffrow4_col1\" class=\"data row4 col1\" >3.07397</td>\n",
       "            </tr>\n",
       "            <tr>\n",
       "                                <td id=\"T_927dc05c_7d21_11ea_80a6_b44bd62aa5ffrow5_col0\" class=\"data row5 col0\" >Upper Bound</td>\n",
       "                        <td id=\"T_927dc05c_7d21_11ea_80a6_b44bd62aa5ffrow5_col1\" class=\"data row5 col1\" >94.044</td>\n",
       "            </tr>\n",
       "    </tbody></table>"
      ],
      "text/plain": [
       "<pandas.io.formats.style.Styler at 0x174b2a8b288>"
      ]
     },
     "execution_count": 16,
     "metadata": {},
     "output_type": "execute_result"
    }
   ],
   "source": [
    "# Calculate the quartiles and IQR\n",
    "\n",
    "#Calculate the quartiles\n",
    "final_volume = volume_df['Tumor Volume']\n",
    "quartiles = final_volume.quantile([.25,.5,.75])\n",
    "\n",
    "#Calculate the IQR\n",
    "lowerq = quartiles[0.25]\n",
    "upperq = quartiles[0.75]\n",
    "iqr = upperq-lowerq\n",
    "\n",
    "lower_bound = lowerq - (1.5*iqr)\n",
    "upper_bound = upperq + (1.5*iqr)\n",
    "\n",
    "stats_df = pd.DataFrame({'Statistics': ['Median Quartile', \n",
    "                                        'Lower Quartile', \n",
    "                                        'Upper Quartile', \n",
    "                                        'Interquartile Range (IQR)', \n",
    "                                        'Lower Bound', \n",
    "                                        'Upper Bound'],\n",
    "                        'Values': [quartiles[0.5], lowerq, upperq, iqr, lower_bound, upper_bound]})\n",
    "\n",
    "stats_df.style.hide_index()"
   ]
  },
  {
   "cell_type": "code",
   "execution_count": 17,
   "metadata": {},
   "outputs": [
    {
     "name": "stdout",
     "output_type": "stream",
     "text": [
      "The largest volume is 72.2267309, with an Upper Bound of 94.04403868375002, and the smallest volume is 22.05012627, with a Lower Bound of 3.0739668737499812. Therefore, there are no outliers.\n"
     ]
    }
   ],
   "source": [
    "# Quantitatively determine if there are any potential outliers\n",
    "\n",
    "upper_value = volume_df['Tumor Volume'].max()\n",
    "lower_value = volume_df['Tumor Volume'].min()\n",
    "\n",
    "if upper_value > upper_bound or lower_value < lower_bound:\n",
    "    print(f'The largest volume is {upper_value}, with an Upper Bound of {upper_bound}, and the smallest volume is\\\n",
    " {lower_value}, with a Lower Bound of {lower_bound}.  Therefore, there are outliers.')\n",
    "elif upper_value <= upper_bound and lower_value >= lower_bound:\n",
    "    print(f'The largest volume is {upper_value}, with an Upper Bound of {upper_bound}, and the smallest volume is\\\n",
    " {lower_value}, with a Lower Bound of {lower_bound}. Therefore, there are no outliers.')"
   ]
  },
  {
   "cell_type": "code",
   "execution_count": 18,
   "metadata": {},
   "outputs": [
    {
     "data": {
      "image/png": "[encoded data removed]",
      "text/plain": [
       "<Figure size 720x432 with 1 Axes>"
      ]
     },
     "metadata": {
      "needs_background": "light"
     },
     "output_type": "display_data"
    }
   ],
   "source": [
    "# Generate a box plot of the final tumor volume of each mouse across four regimens of interest\n",
    "\n",
    "# List for each regimen\n",
    "capomulin_list = volume_df[volume_df['Drug Regimen'].isin(['Capomulin'])]\n",
    "ramicane_list = volume_df[volume_df['Drug Regimen'].isin(['Ramicane'])]\n",
    "infubinol_list = volume_df[volume_df['Drug Regimen'].isin(['Infubinol'])]\n",
    "ceftamin_list = volume_df[volume_df['Drug Regimen'].isin(['Ceftamin'])]\n",
    "\n",
    "# Pandas plot method of boxplot, which looked prettier\n",
    "#box_df = pd.DataFrame({'Capomulin': capomulin_list['Tumor Volume'],\n",
    "#                       'Ramicane': ramicane_list['Tumor Volume'],\n",
    "#                       'Infubinol': infubinol_list['Tumor Volume'],\n",
    "#                       'Ceftamin': ceftamin_list['Tumor Volume']})\n",
    "\n",
    "#box_plot = box_df.boxplot(column=['Capomulin', 'Ramicane', 'Infubinol', 'Ceftamin'])\n",
    "\n",
    "#box_plot.set_title('Final Tumor Volume Across Top Regimens', fontsize=14, fontweight='bold')\n",
    "#box_plot.set_ylabel('Final Tumor Volume (mm3)', fontsize=12)\n",
    "#box_plot.set_xlabel('Drug Regimen', fontsize=12)\n",
    "#box_plot.grid(False)\n",
    "\n",
    "# MatPlotLib method of box plot\n",
    "data = [capomulin_list['Tumor Volume'], \n",
    "        ramicane_list['Tumor Volume'], \n",
    "        infubinol_list['Tumor Volume'], \n",
    "        ceftamin_list['Tumor Volume']]\n",
    "\n",
    "top_regimen = ['Capolumin', 'Ramicane', 'Infubinol', 'Ceftamin']\n",
    "fig1, ax = plt.subplots(figsize=(10, 6))\n",
    "ax.set_title('Final Tumor Volume Across Top Regimens', fontsize=14, fontweight='bold')\n",
    "ax.set_ylabel('Final Tumor Volume (mm3)', fontsize=12)\n",
    "ax.set_xlabel('Drug Regimen', fontsize=12)\n",
    "ax.set_xticklabels(np.repeat(top_regimen,1))\n",
    "\n",
    "# Highlight any potential outliers in the plot by changing their color and style.\n",
    "red_diamond = dict(markerfacecolor='r', marker='D', markersize=10)\n",
    "ax.boxplot(data, flierprops=red_diamond)\n",
    "\n",
    "plt.show()\n"
   ]
  },
  {
   "cell_type": "markdown",
   "metadata": {},
   "source": [
    "## Line and Scatter Plots"
   ]
  },
  {
   "cell_type": "code",
   "execution_count": 30,
   "metadata": {},
   "outputs": [
    {
     "data": {
      "text/plain": [
       "array(['s185', 'x401', 'm601', 'f966', 'u364', 'y793', 'r554', 'm957',\n",
       "       't565', 'i738', 'w914', 'g288', 'l897', 'b742', 'b128', 'j246',\n",
       "       'j119', 'w150', 'v923', 'g316', 's710', 'l509', 'r944', 'i557',\n",
       "       'r157'], dtype=object)"
      ]
     },
     "execution_count": 30,
     "metadata": {},
     "output_type": "execute_result"
    }
   ],
   "source": [
    "# Generate a line plot of time point versus tumor volume for a mouse treated with Capomulin\n",
    "\n",
    "#Pull in data for Capomulin\n",
    "capomulin_list_only = mouse_clean_whole[mouse_clean_whole['Drug Regimen'].isin(['Capomulin'])]\n",
    "#Identify Mouse ID to pick from\n",
    "capomulin_list_only['Mouse ID'].unique()"
   ]
  },
  {
   "cell_type": "code",
   "execution_count": 43,
   "metadata": {},
   "outputs": [
    {
     "data": {
      "image/png": "[encoded data removed]",
      "text/plain": [
       "<Figure size 432x288 with 1 Axes>"
      ]
     },
     "metadata": {
      "needs_background": "light"
     },
     "output_type": "display_data"
    }
   ],
   "source": [
    "# Picking 'w914' as sample mouse\n",
    "w914_list = mouse_clean_whole[mouse_clean_whole['Mouse ID'].isin(['w914'])]\n",
    "\n",
    "\n",
    "plt.plot(w914_list['Timepoint'], w914_list['Tumor Volume (mm3)'])\n",
    "plt.xlabel('Timepoint (days)', fontsize=14)\n",
    "plt.ylabel('Tumor Volume (mm3)', fontsize=14)\n",
    "plt.title('Capomulin Treatment for Mouse w914', fontsize=16, fontweight= 'bold', color='m')\n",
    "plt.show()"
   ]
  },
  {
   "cell_type": "code",
   "execution_count": 71,
   "metadata": {},
   "outputs": [
    {
     "data": {
      "image/png": "[encoded data removed]",
      "text/plain": [
       "<Figure size 432x288 with 1 Axes>"
      ]
     },
     "metadata": {
      "needs_background": "light"
     },
     "output_type": "display_data"
    }
   ],
   "source": [
    "# Generate a scatter plot of mouse weight versus average tumor volume for the Capomulin regimen\n",
    "\n",
    "capomulin_group = capomulin_list_only.groupby(['Mouse ID'])\n",
    "capomulin_weight = capomulin_group['Weight (g)'].unique().str[0]\n",
    "capomulin_avg_vol = capomulin_group['Tumor Volume (mm3)'].mean()\n",
    "\n",
    "plt.scatter(capomulin_weight, capomulin_avg_vol, marker=\"o\", edgecolors=\"black\", alpha=0.75)\n",
    "plt.xlabel('Weight (g)', fontsize=14)\n",
    "plt.ylabel('Average Tumor Volume (mm3)', fontsize=14)\n",
    "plt.title('Weight vs. Tumor Volume for Capomulin', fontsize=15, fontweight= 'bold', color='b')\n",
    "plt.show()"
   ]
  },
  {
   "cell_type": "markdown",
   "metadata": {},
   "source": [
    "## Correlation and Regression"
   ]
  },
  {
   "cell_type": "code",
   "execution_count": 104,
   "metadata": {},
   "outputs": [
    {
     "name": "stdout",
     "output_type": "stream",
     "text": [
      "The correlation coefficient is \"0.8419363424694718\".  Therefore, there is a strong positive correlation in the data.\n",
      "The linear regression is \"y = 0.95x + 21.55\".\n"
     ]
    },
    {
     "data": {
      "image/png": "[encoded data removed]",
      "text/plain": [
       "<Figure size 432x288 with 1 Axes>"
      ]
     },
     "metadata": {
      "needs_background": "light"
     },
     "output_type": "display_data"
    }
   ],
   "source": [
    "# Calculate the correlation coefficient and linear regression model \n",
    "# for mouse weight and average tumor volume for the Capomulin regimen\n",
    "x_values = capomulin_weight\n",
    "y_values = capomulin_avg_vol\n",
    "\n",
    "# Linear regression model\n",
    "(slope, intercept, rvalue, pvalue, stderr) = st.linregress(x_values, y_values)\n",
    "regress_values = x_values * slope + intercept\n",
    "line_eq = \"y = \" + str(round(slope,2)) + \"x + \" + str(round(intercept,2))\n",
    "plt.scatter(x_values,y_values)\n",
    "plt.plot(x_values, regress_values, \"r-\")\n",
    "plt.annotate(line_eq, (18, 37), fontsize=12, color=\"red\")\n",
    "plt.xlabel('Weight (g)', fontsize=12)\n",
    "plt.ylabel('Average Tumor Volume (mm3)', fontsize=12)\n",
    "plt.title('Weight vs. Tumor Volume for Capomulin', fontsize=15, fontweight= 'bold', color='b')\n",
    "\n",
    "# Display the correlation coefficient\n",
    "print(f'The correlation coefficient is \"{rvalue}\".  Therefore, there is a strong positive correlation in the data.')\n",
    "print(f'The linear regression is \"{line_eq}\".')\n",
    "plt.show()"
   ]
  },
  {
   "cell_type": "code",
   "execution_count": null,
   "metadata": {},
   "outputs": [],
   "source": []
  }
 ],
 "metadata": {
  "anaconda-cloud": {},
  "kernelspec": {
   "display_name": "Python 3",
   "language": "python",
   "name": "python3"
  },
  "language_info": {
   "codemirror_mode": {
    "name": "ipython",
    "version": 3
   },
   "file_extension": ".py",
   "mimetype": "text/x-python",
   "name": "python",
   "nbconvert_exporter": "python",
   "pygments_lexer": "ipython3",
   "version": "3.7.4"
  }
 },
 "nbformat": 4,
 "nbformat_minor": 2
}
